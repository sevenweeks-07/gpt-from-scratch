{
  "nbformat": 4,
  "nbformat_minor": 0,
  "metadata": {
    "colab": {
      "provenance": []
    },
    "kernelspec": {
      "name": "python3",
      "display_name": "Python 3"
    },
    "language_info": {
      "name": "python"
    }
  },
  "cells": [
    {
      "cell_type": "code",
      "execution_count": 2,
      "metadata": {
        "colab": {
          "base_uri": "https://localhost:8080/"
        },
        "id": "mwNGB1_n-rj_",
        "outputId": "fb6fee93-cc00-4f73-b925-a5373b2768ac"
      },
      "outputs": [
        {
          "output_type": "stream",
          "name": "stdout",
          "text": [
            "--2025-10-27 14:08:52--  https://raw.githubusercontent.com/karpathy/char-rnn/master/data/tinyshakespeare/input.txt\n",
            "Resolving raw.githubusercontent.com (raw.githubusercontent.com)... 185.199.108.133, 185.199.110.133, 185.199.109.133, ...\n",
            "Connecting to raw.githubusercontent.com (raw.githubusercontent.com)|185.199.108.133|:443... connected.\n",
            "HTTP request sent, awaiting response... 200 OK\n",
            "Length: 1115394 (1.1M) [text/plain]\n",
            "Saving to: ‘input.txt’\n",
            "\n",
            "input.txt           100%[===================>]   1.06M  --.-KB/s    in 0.03s   \n",
            "\n",
            "2025-10-27 14:08:53 (30.8 MB/s) - ‘input.txt’ saved [1115394/1115394]\n",
            "\n"
          ]
        }
      ],
      "source": [
        "!wget https://raw.githubusercontent.com/karpathy/char-rnn/master/data/tinyshakespeare/input.txt"
      ]
    },
    {
      "cell_type": "code",
      "source": [
        "with open(\"input.txt\",'r',encoding=\"utf-8\") as f:\n",
        "  text=f.read()"
      ],
      "metadata": {
        "id": "QQG8xU5p-y1L"
      },
      "execution_count": 3,
      "outputs": []
    },
    {
      "cell_type": "code",
      "source": [
        "print(\"The length of the dataset is:\", len(text))"
      ],
      "metadata": {
        "colab": {
          "base_uri": "https://localhost:8080/"
        },
        "id": "0741Yc0YAmr_",
        "outputId": "ea1d24dc-d2df-4b67-89c9-f63cec1f841c"
      },
      "execution_count": 4,
      "outputs": [
        {
          "output_type": "stream",
          "name": "stdout",
          "text": [
            "The length of the dataset is: 1115394\n"
          ]
        }
      ]
    },
    {
      "cell_type": "code",
      "source": [
        "print(text[:1000])"
      ],
      "metadata": {
        "colab": {
          "base_uri": "https://localhost:8080/"
        },
        "id": "d6zhjXx_AryR",
        "outputId": "948f0033-8bab-4b49-bf24-1c892ed4e6c2"
      },
      "execution_count": 5,
      "outputs": [
        {
          "output_type": "stream",
          "name": "stdout",
          "text": [
            "First Citizen:\n",
            "Before we proceed any further, hear me speak.\n",
            "\n",
            "All:\n",
            "Speak, speak.\n",
            "\n",
            "First Citizen:\n",
            "You are all resolved rather to die than to famish?\n",
            "\n",
            "All:\n",
            "Resolved. resolved.\n",
            "\n",
            "First Citizen:\n",
            "First, you know Caius Marcius is chief enemy to the people.\n",
            "\n",
            "All:\n",
            "We know't, we know't.\n",
            "\n",
            "First Citizen:\n",
            "Let us kill him, and we'll have corn at our own price.\n",
            "Is't a verdict?\n",
            "\n",
            "All:\n",
            "No more talking on't; let it be done: away, away!\n",
            "\n",
            "Second Citizen:\n",
            "One word, good citizens.\n",
            "\n",
            "First Citizen:\n",
            "We are accounted poor citizens, the patricians good.\n",
            "What authority surfeits on would relieve us: if they\n",
            "would yield us but the superfluity, while it were\n",
            "wholesome, we might guess they relieved us humanely;\n",
            "but they think we are too dear: the leanness that\n",
            "afflicts us, the object of our misery, is as an\n",
            "inventory to particularise their abundance; our\n",
            "sufferance is a gain to them Let us revenge this with\n",
            "our pikes, ere we become rakes: for the gods know I\n",
            "speak this in hunger for bread, not in thirst for revenge.\n",
            "\n",
            "\n"
          ]
        }
      ]
    },
    {
      "cell_type": "code",
      "source": [
        "chars=sorted(list(set(text)))#set(text) creates a set of unique characters\n",
        "print(set(text))\n",
        "print(chars)\n",
        "vocab_size=len(chars)\n",
        "new_string=''.join(chars)\n",
        "print(f\"The possible characters the model can see: {new_string}\")#converts list to string\n",
        "print(f\"The vocab size is: {vocab_size}\")"
      ],
      "metadata": {
        "colab": {
          "base_uri": "https://localhost:8080/"
        },
        "id": "TIDrkUm7Au3n",
        "outputId": "fecd40d4-70e1-4efb-bda0-4655d3fa8b3a"
      },
      "execution_count": 23,
      "outputs": [
        {
          "output_type": "stream",
          "name": "stdout",
          "text": [
            "{'o', 'T', 'E', 'A', 'O', '\\n', ';', 'c', 'N', 'g', 'J', 'X', 'n', 'z', '!', '&', 'V', 'v', '3', 'a', 'h', 'Q', 'q', 'u', '?', 'Y', 'b', 'p', ':', 'B', 'r', 'l', 'M', \"'\", 'L', 'x', 'K', 'D', 'j', 'm', 'f', '.', 'y', 'G', ',', 'd', 'H', 's', 'i', 'I', 'C', 't', 'F', 'W', '-', '$', 'e', 'w', ' ', 'Z', 'P', 'S', 'U', 'R', 'k'}\n",
            "['\\n', ' ', '!', '$', '&', \"'\", ',', '-', '.', '3', ':', ';', '?', 'A', 'B', 'C', 'D', 'E', 'F', 'G', 'H', 'I', 'J', 'K', 'L', 'M', 'N', 'O', 'P', 'Q', 'R', 'S', 'T', 'U', 'V', 'W', 'X', 'Y', 'Z', 'a', 'b', 'c', 'd', 'e', 'f', 'g', 'h', 'i', 'j', 'k', 'l', 'm', 'n', 'o', 'p', 'q', 'r', 's', 't', 'u', 'v', 'w', 'x', 'y', 'z']\n",
            "The possible characters the model can see: \n",
            " !$&',-.3:;?ABCDEFGHIJKLMNOPQRSTUVWXYZabcdefghijklmnopqrstuvwxyz\n",
            "The vocab size is: 65\n"
          ]
        }
      ]
    },
    {
      "cell_type": "code",
      "source": [
        "stoi={ch:i for i,ch in enumerate(chars)}\n",
        "print(stoi)#string to integer\n",
        "itos={i:ch for i,ch in enumerate(chars)}\n",
        "print(itos)#integer to string\n",
        "\n",
        "def encode(s):\n",
        "  string_val=[]\n",
        "  for i in s:\n",
        "    string_val.append(stoi[i])\n",
        "  return string_val\n",
        "\n",
        "def decode(i):\n",
        "  string_val=\"\"\n",
        "  for k in i:\n",
        "    string_val+=(itos[k])\n",
        "  return string_val\n",
        "\n",
        "\n",
        "print(encode(\"hi there\"))\n",
        "print(decode(encode(\"hi there\")))"
      ],
      "metadata": {
        "colab": {
          "base_uri": "https://localhost:8080/"
        },
        "id": "T7PblUcyBArS",
        "outputId": "08803791-e298-47e8-b1f6-8db365c78113"
      },
      "execution_count": 39,
      "outputs": [
        {
          "output_type": "stream",
          "name": "stdout",
          "text": [
            "{'\\n': 0, ' ': 1, '!': 2, '$': 3, '&': 4, \"'\": 5, ',': 6, '-': 7, '.': 8, '3': 9, ':': 10, ';': 11, '?': 12, 'A': 13, 'B': 14, 'C': 15, 'D': 16, 'E': 17, 'F': 18, 'G': 19, 'H': 20, 'I': 21, 'J': 22, 'K': 23, 'L': 24, 'M': 25, 'N': 26, 'O': 27, 'P': 28, 'Q': 29, 'R': 30, 'S': 31, 'T': 32, 'U': 33, 'V': 34, 'W': 35, 'X': 36, 'Y': 37, 'Z': 38, 'a': 39, 'b': 40, 'c': 41, 'd': 42, 'e': 43, 'f': 44, 'g': 45, 'h': 46, 'i': 47, 'j': 48, 'k': 49, 'l': 50, 'm': 51, 'n': 52, 'o': 53, 'p': 54, 'q': 55, 'r': 56, 's': 57, 't': 58, 'u': 59, 'v': 60, 'w': 61, 'x': 62, 'y': 63, 'z': 64}\n",
            "{0: '\\n', 1: ' ', 2: '!', 3: '$', 4: '&', 5: \"'\", 6: ',', 7: '-', 8: '.', 9: '3', 10: ':', 11: ';', 12: '?', 13: 'A', 14: 'B', 15: 'C', 16: 'D', 17: 'E', 18: 'F', 19: 'G', 20: 'H', 21: 'I', 22: 'J', 23: 'K', 24: 'L', 25: 'M', 26: 'N', 27: 'O', 28: 'P', 29: 'Q', 30: 'R', 31: 'S', 32: 'T', 33: 'U', 34: 'V', 35: 'W', 36: 'X', 37: 'Y', 38: 'Z', 39: 'a', 40: 'b', 41: 'c', 42: 'd', 43: 'e', 44: 'f', 45: 'g', 46: 'h', 47: 'i', 48: 'j', 49: 'k', 50: 'l', 51: 'm', 52: 'n', 53: 'o', 54: 'p', 55: 'q', 56: 'r', 57: 's', 58: 't', 59: 'u', 60: 'v', 61: 'w', 62: 'x', 63: 'y', 64: 'z'}\n",
            "[46, 47, 1, 58, 46, 43, 56, 43]\n",
            "hi there\n"
          ]
        }
      ]
    },
    {
      "cell_type": "code",
      "source": [
        "import torch\n",
        "data=torch.tensor(encode(text),dtype=torch.long)\n",
        "print(data.shape,data.dtype)\n",
        "print(data[:1000])"
      ],
      "metadata": {
        "colab": {
          "base_uri": "https://localhost:8080/"
        },
        "id": "NpzqZO20CjeV",
        "outputId": "8730861b-f707-464c-fd87-28c3e1414518"
      },
      "execution_count": 40,
      "outputs": [
        {
          "output_type": "stream",
          "name": "stdout",
          "text": [
            "torch.Size([1115394]) torch.int64\n",
            "tensor([18, 47, 56, 57, 58,  1, 15, 47, 58, 47, 64, 43, 52, 10,  0, 14, 43, 44,\n",
            "        53, 56, 43,  1, 61, 43,  1, 54, 56, 53, 41, 43, 43, 42,  1, 39, 52, 63,\n",
            "         1, 44, 59, 56, 58, 46, 43, 56,  6,  1, 46, 43, 39, 56,  1, 51, 43,  1,\n",
            "        57, 54, 43, 39, 49,  8,  0,  0, 13, 50, 50, 10,  0, 31, 54, 43, 39, 49,\n",
            "         6,  1, 57, 54, 43, 39, 49,  8,  0,  0, 18, 47, 56, 57, 58,  1, 15, 47,\n",
            "        58, 47, 64, 43, 52, 10,  0, 37, 53, 59,  1, 39, 56, 43,  1, 39, 50, 50,\n",
            "         1, 56, 43, 57, 53, 50, 60, 43, 42,  1, 56, 39, 58, 46, 43, 56,  1, 58,\n",
            "        53,  1, 42, 47, 43,  1, 58, 46, 39, 52,  1, 58, 53,  1, 44, 39, 51, 47,\n",
            "        57, 46, 12,  0,  0, 13, 50, 50, 10,  0, 30, 43, 57, 53, 50, 60, 43, 42,\n",
            "         8,  1, 56, 43, 57, 53, 50, 60, 43, 42,  8,  0,  0, 18, 47, 56, 57, 58,\n",
            "         1, 15, 47, 58, 47, 64, 43, 52, 10,  0, 18, 47, 56, 57, 58,  6,  1, 63,\n",
            "        53, 59,  1, 49, 52, 53, 61,  1, 15, 39, 47, 59, 57,  1, 25, 39, 56, 41,\n",
            "        47, 59, 57,  1, 47, 57,  1, 41, 46, 47, 43, 44,  1, 43, 52, 43, 51, 63,\n",
            "         1, 58, 53,  1, 58, 46, 43,  1, 54, 43, 53, 54, 50, 43,  8,  0,  0, 13,\n",
            "        50, 50, 10,  0, 35, 43,  1, 49, 52, 53, 61,  5, 58,  6,  1, 61, 43,  1,\n",
            "        49, 52, 53, 61,  5, 58,  8,  0,  0, 18, 47, 56, 57, 58,  1, 15, 47, 58,\n",
            "        47, 64, 43, 52, 10,  0, 24, 43, 58,  1, 59, 57,  1, 49, 47, 50, 50,  1,\n",
            "        46, 47, 51,  6,  1, 39, 52, 42,  1, 61, 43,  5, 50, 50,  1, 46, 39, 60,\n",
            "        43,  1, 41, 53, 56, 52,  1, 39, 58,  1, 53, 59, 56,  1, 53, 61, 52,  1,\n",
            "        54, 56, 47, 41, 43,  8,  0, 21, 57,  5, 58,  1, 39,  1, 60, 43, 56, 42,\n",
            "        47, 41, 58, 12,  0,  0, 13, 50, 50, 10,  0, 26, 53,  1, 51, 53, 56, 43,\n",
            "         1, 58, 39, 50, 49, 47, 52, 45,  1, 53, 52,  5, 58, 11,  1, 50, 43, 58,\n",
            "         1, 47, 58,  1, 40, 43,  1, 42, 53, 52, 43, 10,  1, 39, 61, 39, 63,  6,\n",
            "         1, 39, 61, 39, 63,  2,  0,  0, 31, 43, 41, 53, 52, 42,  1, 15, 47, 58,\n",
            "        47, 64, 43, 52, 10,  0, 27, 52, 43,  1, 61, 53, 56, 42,  6,  1, 45, 53,\n",
            "        53, 42,  1, 41, 47, 58, 47, 64, 43, 52, 57,  8,  0,  0, 18, 47, 56, 57,\n",
            "        58,  1, 15, 47, 58, 47, 64, 43, 52, 10,  0, 35, 43,  1, 39, 56, 43,  1,\n",
            "        39, 41, 41, 53, 59, 52, 58, 43, 42,  1, 54, 53, 53, 56,  1, 41, 47, 58,\n",
            "        47, 64, 43, 52, 57,  6,  1, 58, 46, 43,  1, 54, 39, 58, 56, 47, 41, 47,\n",
            "        39, 52, 57,  1, 45, 53, 53, 42,  8,  0, 35, 46, 39, 58,  1, 39, 59, 58,\n",
            "        46, 53, 56, 47, 58, 63,  1, 57, 59, 56, 44, 43, 47, 58, 57,  1, 53, 52,\n",
            "         1, 61, 53, 59, 50, 42,  1, 56, 43, 50, 47, 43, 60, 43,  1, 59, 57, 10,\n",
            "         1, 47, 44,  1, 58, 46, 43, 63,  0, 61, 53, 59, 50, 42,  1, 63, 47, 43,\n",
            "        50, 42,  1, 59, 57,  1, 40, 59, 58,  1, 58, 46, 43,  1, 57, 59, 54, 43,\n",
            "        56, 44, 50, 59, 47, 58, 63,  6,  1, 61, 46, 47, 50, 43,  1, 47, 58,  1,\n",
            "        61, 43, 56, 43,  0, 61, 46, 53, 50, 43, 57, 53, 51, 43,  6,  1, 61, 43,\n",
            "         1, 51, 47, 45, 46, 58,  1, 45, 59, 43, 57, 57,  1, 58, 46, 43, 63,  1,\n",
            "        56, 43, 50, 47, 43, 60, 43, 42,  1, 59, 57,  1, 46, 59, 51, 39, 52, 43,\n",
            "        50, 63, 11,  0, 40, 59, 58,  1, 58, 46, 43, 63,  1, 58, 46, 47, 52, 49,\n",
            "         1, 61, 43,  1, 39, 56, 43,  1, 58, 53, 53,  1, 42, 43, 39, 56, 10,  1,\n",
            "        58, 46, 43,  1, 50, 43, 39, 52, 52, 43, 57, 57,  1, 58, 46, 39, 58,  0,\n",
            "        39, 44, 44, 50, 47, 41, 58, 57,  1, 59, 57,  6,  1, 58, 46, 43,  1, 53,\n",
            "        40, 48, 43, 41, 58,  1, 53, 44,  1, 53, 59, 56,  1, 51, 47, 57, 43, 56,\n",
            "        63,  6,  1, 47, 57,  1, 39, 57,  1, 39, 52,  0, 47, 52, 60, 43, 52, 58,\n",
            "        53, 56, 63,  1, 58, 53,  1, 54, 39, 56, 58, 47, 41, 59, 50, 39, 56, 47,\n",
            "        57, 43,  1, 58, 46, 43, 47, 56,  1, 39, 40, 59, 52, 42, 39, 52, 41, 43,\n",
            "        11,  1, 53, 59, 56,  0, 57, 59, 44, 44, 43, 56, 39, 52, 41, 43,  1, 47,\n",
            "        57,  1, 39,  1, 45, 39, 47, 52,  1, 58, 53,  1, 58, 46, 43, 51,  1, 24,\n",
            "        43, 58,  1, 59, 57,  1, 56, 43, 60, 43, 52, 45, 43,  1, 58, 46, 47, 57,\n",
            "         1, 61, 47, 58, 46,  0, 53, 59, 56,  1, 54, 47, 49, 43, 57,  6,  1, 43,\n",
            "        56, 43,  1, 61, 43,  1, 40, 43, 41, 53, 51, 43,  1, 56, 39, 49, 43, 57,\n",
            "        10,  1, 44, 53, 56,  1, 58, 46, 43,  1, 45, 53, 42, 57,  1, 49, 52, 53,\n",
            "        61,  1, 21,  0, 57, 54, 43, 39, 49,  1, 58, 46, 47, 57,  1, 47, 52,  1,\n",
            "        46, 59, 52, 45, 43, 56,  1, 44, 53, 56,  1, 40, 56, 43, 39, 42,  6,  1,\n",
            "        52, 53, 58,  1, 47, 52,  1, 58, 46, 47, 56, 57, 58,  1, 44, 53, 56,  1,\n",
            "        56, 43, 60, 43, 52, 45, 43,  8,  0,  0])\n"
          ]
        }
      ]
    },
    {
      "cell_type": "code",
      "source": [
        "n=int(0.9*len(data))\n",
        "train_data=data[:n]\n",
        "val_data=data[n:]"
      ],
      "metadata": {
        "id": "LVNhXSpFE34E"
      },
      "execution_count": 41,
      "outputs": []
    },
    {
      "cell_type": "code",
      "source": [
        "block_size=8"
      ],
      "metadata": {
        "id": "_BCe6TiQJPx5"
      },
      "execution_count": 42,
      "outputs": []
    },
    {
      "cell_type": "code",
      "source": [
        "x=train_data[:block_size]#sliding window\n",
        "y=train_data[1:block_size+1]\n",
        "print(x)\n",
        "print(y)"
      ],
      "metadata": {
        "colab": {
          "base_uri": "https://localhost:8080/"
        },
        "id": "oGP4kktfJrXi",
        "outputId": "eaafd188-8943-43e4-b45b-6ec6c4e4af15"
      },
      "execution_count": 11,
      "outputs": [
        {
          "output_type": "stream",
          "name": "stdout",
          "text": [
            "tensor([18, 47, 56, 57, 58,  1, 15, 47])\n",
            "tensor([47, 56, 57, 58,  1, 15, 47, 58])\n"
          ]
        }
      ]
    },
    {
      "cell_type": "code",
      "source": [
        "for t in range(block_size):\n",
        "  context=x[:t+1]\n",
        "  target=y[t]\n",
        "  print(f\"when input is {context}, output is {target}\")"
      ],
      "metadata": {
        "colab": {
          "base_uri": "https://localhost:8080/"
        },
        "id": "UbiJyxpiJ9SE",
        "outputId": "33d4ec29-0293-4f3f-c1c0-f3d9badccd6f"
      },
      "execution_count": 12,
      "outputs": [
        {
          "output_type": "stream",
          "name": "stdout",
          "text": [
            "when input is tensor([18]), output is 47\n",
            "when input is tensor([18, 47]), output is 56\n",
            "when input is tensor([18, 47, 56]), output is 57\n",
            "when input is tensor([18, 47, 56, 57]), output is 58\n",
            "when input is tensor([18, 47, 56, 57, 58]), output is 1\n",
            "when input is tensor([18, 47, 56, 57, 58,  1]), output is 15\n",
            "when input is tensor([18, 47, 56, 57, 58,  1, 15]), output is 47\n",
            "when input is tensor([18, 47, 56, 57, 58,  1, 15, 47]), output is 58\n"
          ]
        }
      ]
    },
    {
      "cell_type": "code",
      "source": [
        "torch.manual_seed(1337)\n",
        "batch_size=4 #How many independent sequences will we process in parallel?\n",
        "block_size=8\n",
        "def get_batch(split):\n",
        "  #generate a mall batch of data of inputs x and targets y\n",
        "  data=train_data if split=='train' else val_data\n",
        "  ix=torch.randint(len(data)-block_size,(batch_size,))#Taking 4 random numbers\n",
        "  x=torch.stack([data[i:i+block_size] for i in ix]) #  Randomly taking continuous block_size length chunk form the data(batch size(4) of them and stacking)\n",
        "  y=torch.stack([data[i+1:i+block_size+1] for i in ix] )\n",
        "  return x,y"
      ],
      "metadata": {
        "id": "dKuuLI3WKBrY"
      },
      "execution_count": 13,
      "outputs": []
    },
    {
      "cell_type": "code",
      "source": [
        "xb,yb=get_batch('train')\n",
        "print(\"inputs:\")\n",
        "print(xb.shape)\n",
        "print(xb)\n",
        "print(\"outputs:\")\n",
        "print(yb.shape)\n",
        "print(yb)"
      ],
      "metadata": {
        "colab": {
          "base_uri": "https://localhost:8080/"
        },
        "id": "tO3_-VSSMOeT",
        "outputId": "2a9728f2-e7db-4e99-bebc-e3d858424205"
      },
      "execution_count": 14,
      "outputs": [
        {
          "output_type": "stream",
          "name": "stdout",
          "text": [
            "inputs:\n",
            "torch.Size([4, 8])\n",
            "tensor([[24, 43, 58,  5, 57,  1, 46, 43],\n",
            "        [44, 53, 56,  1, 58, 46, 39, 58],\n",
            "        [52, 58,  1, 58, 46, 39, 58,  1],\n",
            "        [25, 17, 27, 10,  0, 21,  1, 54]])\n",
            "outputs:\n",
            "torch.Size([4, 8])\n",
            "tensor([[43, 58,  5, 57,  1, 46, 43, 39],\n",
            "        [53, 56,  1, 58, 46, 39, 58,  1],\n",
            "        [58,  1, 58, 46, 39, 58,  1, 46],\n",
            "        [17, 27, 10,  0, 21,  1, 54, 39]])\n"
          ]
        }
      ]
    },
    {
      "cell_type": "code",
      "source": [
        "# BIGRAM EMBEDDING TABLE (vocab_size × vocab_size)\n",
        "\n",
        "#            Next Token Predictions →\n",
        "#            a    b    c    d    e   ...\n",
        "#          ┌─────────────────────────────┐\n",
        "#       a  │ 0.2  0.5 -0.1  0.3  0.8 ... │ ← Scores for \"a→?\"\n",
        "#       b  │ 0.7 -0.3  0.9  0.1  0.4 ... │ ← Scores for \"b→?\"\n",
        "# Current c │-0.5  0.6  0.2  0.8 -0.2 ... │ ← Scores for \"c→?\"\n",
        "# Token  d │ 0.4  0.1 -0.7  0.5  0.6 ... │ ← Scores for \"d→?\"\n",
        "#       e  │ 0.9  0.3  0.4 -0.1  0.2 ... │ ← Scores for \"e→?\"\n",
        "#      ... │ ...  ...  ...  ...  ... ... │\n",
        "#          └─────────────────────────────┘\n",
        "# ```\n",
        "\n",
        "# **How it works:**\n",
        "# ```\n",
        "# Example: Predict next token after \"c\"\n",
        "\n",
        "# 1. Input: token \"c\" → Look up row 'c'\n",
        "\n",
        "#    Row c: [-0.5, 0.6, 0.2, 0.8, -0.2, ...]\n",
        "#            ↑    ↑    ↑    ↑     ↑\n",
        "#            a    b    c    d     e\n",
        "\n",
        "# 2. These are logits (raw scores)\n",
        "\n",
        "# 3. Apply softmax → probabilities:\n",
        "#    [0.05, 0.15, 0.10, 0.20, 0.06, ...]\n",
        "\n",
        "# 4. Highest score = 'd' (0.8)\n",
        "#    → Most likely next token is 'd'\n",
        "#    → Model predicts: \"c\" → \"d\"\n",
        "\n",
        "# Your data:\n",
        "# xb = [[18, 47, 56, 57, 58, 1, 15, 47],    # Batch 0: 8 token indices\n",
        "#       [13, 52, 45, 43, 57, 43, 1, 39],     # Batch 1: 8 token indices\n",
        "#       [58, 46, 43, 1, 58, 46, 43, 1],      # Batch 2: 8 token indices\n",
        "#       [39, 52, 41, 43, 1, 58, 46, 43]]     # Batch 3: 8 token indices\n",
        "# # Shape: (4, 8)\n",
        "\n",
        "# yb = [[47, 56, 57, 58, 1, 15, 47, 57],    # Targets shifted by 1\n",
        "#       [52, 45, 43, 57, 43, 1, 39, 58],\n",
        "#       [46, 43, 1, 58, 46, 43, 1, 39],\n",
        "#       [52, 41, 43, 1, 58, 46, 43, 1]]\n",
        "# # Shape: (4, 8)\n",
        "\n",
        "# # Pass to model:\n",
        "# out = m(xb, yb)\n",
        "# ```\n",
        "\n",
        "# **What happens:**\n",
        "# ```\n",
        "# For EACH token index in xb, look up that row in embedding table:\n",
        "\n",
        "# Batch 0, Position 0: Token 18 → Look up row 18 → Get [65 scores]\n",
        "# Batch 0, Position 1: Token 47 → Look up row 47 → Get [65 scores]\n",
        "# Batch 0, Position 2: Token 56 → Look up row 56 → Get [65 scores]\n",
        "# ...\n",
        "# Batch 3, Position 7: Token 43 → Look up row 43 → Get [65 scores]\n",
        "#For each token you get 65 scores\n",
        "\n",
        "# PAGE 1 (the input xb): 4 rows × 8 columns\n",
        "# xb = [[18, 47, 56, 57, 58,  1, 15, 47],\n",
        "#       [13, 52, 45, 43, 57, 43,  1, 39],\n",
        "#       [58, 46, 43,  1, 58, 46, 43,  1],\n",
        "#       [39, 52, 41, 43,  1, 58, 46, 43]]\n",
        "# ```\n",
        "\n",
        "# **logits = A THICK BOOK with 4 PAGES (one per batch):**\n",
        "\n",
        "# ---\n",
        "\n",
        "# **📄 PAGE 1 (Batch 0):** 8 rows × 65 columns\n",
        "# ```\n",
        "# Position 0 (token 18): [0.2, 0.5, 0.1, ..., 0.9, ...]  ← 65 scores\n",
        "# Position 1 (token 47): [0.3, 0.7, 0.2, ..., 0.4, ...]  ← 65 scores\n",
        "# Position 2 (token 56): [0.1, 0.4, 0.8, ..., 0.6, ...]  ← 65 scores\n",
        "# Position 3 (token 57): [0.5, 0.2, 0.3, ..., 0.7, ...]  ← 65 scores\n",
        "# Position 4 (token 58): [0.6, 0.8, 0.1, ..., 0.5, ...]  ← 65 scores\n",
        "# Position 5 (token  1): [0.4, 0.3, 0.9, ..., 0.2, ...]  ← 65 scores\n",
        "# Position 6 (token 15): [0.7, 0.1, 0.4, ..., 0.8, ...]  ← 65 scores\n",
        "# Position 7 (token 47): [0.2, 0.6, 0.5, ..., 0.3, ...]  ← 65 scores\n",
        "# ```\n",
        "\n",
        "# ---\n",
        "\n",
        "# **📄 PAGE 2 (Batch 1):** 8 rows × 65 columns\n",
        "# ```\n",
        "# Position 0 (token 13): [0.4, 0.2, 0.7, ..., 0.1, ...]  ← 65 scores\n",
        "# Position 1 (token 52): [0.8, 0.3, 0.5, ..., 0.6, ...]  ← 65 scores\n",
        "# Position 2 (token 45): [0.1, 0.9, 0.2, ..., 0.4, ...]  ← 65 scores\n",
        "# ... (6 more rows)\n",
        "# ```\n",
        "\n",
        "# ---\n",
        "\n",
        "# **📄 PAGE 3 (Batch 2):** 8 rows × 65 columns\n",
        "# ```\n",
        "# Position 0 (token 58): [0.6, 0.8, 0.1, ..., 0.5, ...]  ← 65 scores\n",
        "# Position 1 (token 46): [0.3, 0.5, 0.7, ..., 0.2, ...]  ← 65 scores\n",
        "# ... (6 more rows)\n",
        "# ```\n",
        "\n",
        "# ---\n",
        "\n",
        "# **📄 PAGE 4 (Batch 3):** 8 rows × 65 columns\n",
        "# ```\n",
        "# Position 0 (token 39): [0.5, 0.4, 0.6, ..., 0.9, ...]  ← 65 scores\n",
        "# Position 1 (token 52): [0.8, 0.3, 0.5, ..., 0.6, ...]  ← 65 scores\n",
        "# ... (6 more rows)\n",
        "import torch\n",
        "import torch.nn as nn\n",
        "from torch.nn import functional as F\n",
        "torch.manual_seed(1337)\n",
        "\n",
        "class BigramLanguageModel(nn.Module):#Lookup table for next token predictor\n",
        "  def __init__(self,vocab_size):\n",
        "    super().__init__()\n",
        "    self.token_embedding_table=nn.Embedding(vocab_size,vocab_size)\n",
        "\n",
        "  def forward(self,idx,targets):\n",
        "    logits=self.token_embedding_table(idx)\n",
        "    B,T,C=logits.shape\n",
        "    logits=logits.view(B*T,C)\n",
        "    targets=targets.view(B*T)\n",
        "\n",
        "    loss=F.cross_entropy(logits,targets)#F.cross entropy needs a 2d logit space and 1d target space\n",
        "\n",
        "    return logits,loss\n",
        "\n",
        "\n",
        "#   # Iteration 1:\n",
        "# idx = [[18, 47, 56]]  # Current: \"hel\"\n",
        "# logits = (1, 3, 65)\n",
        "# logits[:, -1, :] → Use position 2 → Sample token 56 → 'l'\n",
        "# idx = [[18, 47, 56, 56]]  # Now: \"hell\"\n",
        "\n",
        "# # Iteration 2:\n",
        "# idx = [[18, 47, 56, 56]]  # Current: \"hell\"\n",
        "# logits = (1, 4, 65)\n",
        "# logits[:, -1, :] → Use position 3 (new last) → Sample token 58 → 'o'\n",
        "# idx = [[18, 47, 56, 56, 58]]  # Now: \"hello\"\n",
        "\n",
        "  def generate(self,idx,max_new_tokens):\n",
        "    for _ in range(max_new_tokens):\n",
        "      logits,loss=self(idx)\n",
        "      logits=logits[:,-1,:]\n",
        "      probs=F.softmax(logits,dim=-1)\n",
        "      idx_next=torch.multinomial(probs,num_samples=1)#picks max probability value\n",
        "      idx=torch.cat((idx,idx_next),dim=1)\n",
        "    return idx\n",
        "\n",
        "m=BigramLanguageModel(vocab_size)\n",
        "logits,loss=m(xb,yb)\n",
        "print(logits)\n",
        "print(\"------------------------------------------------------------------------\")\n",
        "print(loss)\n"
      ],
      "metadata": {
        "colab": {
          "base_uri": "https://localhost:8080/"
        },
        "id": "AnsXbhqRPitd",
        "outputId": "02b8ce6d-0760-4e6c-8e48-eca93d5eb6ef"
      },
      "execution_count": 44,
      "outputs": [
        {
          "output_type": "stream",
          "name": "stdout",
          "text": [
            "tensor([[-1.5101, -0.0948,  1.0927,  ..., -0.6126, -0.6597,  0.7624],\n",
            "        [ 0.3323, -0.0872, -0.7470,  ..., -0.6716, -0.9572, -0.9594],\n",
            "        [ 0.2475, -0.6349, -1.2909,  ...,  1.3064, -0.2256, -1.8305],\n",
            "        ...,\n",
            "        [-2.1910, -0.7574,  1.9656,  ..., -0.3580,  0.8585, -0.6161],\n",
            "        [ 0.5978, -0.0514, -0.0646,  ..., -1.4649, -2.0555,  1.8275],\n",
            "        [-0.6787,  0.8662, -1.6433,  ...,  2.3671, -0.7775, -0.2586]],\n",
            "       grad_fn=<ViewBackward0>)\n",
            "------------------------------------------------------------------------\n",
            "tensor(4.8786, grad_fn=<NllLossBackward0>)\n"
          ]
        }
      ]
    },
    {
      "cell_type": "code",
      "source": [],
      "metadata": {
        "id": "uD8hoHMMQ4Uz"
      },
      "execution_count": 15,
      "outputs": []
    }
  ]
}